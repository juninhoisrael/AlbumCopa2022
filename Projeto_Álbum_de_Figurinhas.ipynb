{
  "nbformat": 4,
  "nbformat_minor": 0,
  "metadata": {
    "colab": {
      "provenance": [],
      "collapsed_sections": [
        "8L_o_sWYFr9o"
      ],
      "include_colab_link": true
    },
    "kernelspec": {
      "name": "python3",
      "display_name": "Python 3"
    },
    "language_info": {
      "name": "python"
    }
  },
  "cells": [
    {
      "cell_type": "markdown",
      "metadata": {
        "id": "view-in-github",
        "colab_type": "text"
      },
      "source": [
        "<a href=\"https://colab.research.google.com/github/juninhoisrael/AlbumCopa2022/blob/main/Projeto_%C3%81lbum_de_Figurinhas.ipynb\" target=\"_parent\"><img src=\"https://colab.research.google.com/assets/colab-badge.svg\" alt=\"Open In Colab\"/></a>"
      ]
    },
    {
      "cell_type": "markdown",
      "metadata": {
        "id": "SpNvv45sE3Vi"
      },
      "source": [
        "---"
      ]
    },
    {
      "cell_type": "markdown",
      "metadata": {
        "id": "iTybxsEjYEko"
      },
      "source": [
        "## **PROJETO: Album Copa do Mundo 2022**\n",
        "- Total de cromos: **670**.\n",
        "- Preço do livro ilustrado capa brochura: **R\\$ 12,00**.\n",
        "- Envelope com 5 cromos: **R\\$ 4,00**.\n"
      ]
    },
    {
      "cell_type": "markdown",
      "metadata": {
        "id": "v0bCJjZ8YZVb"
      },
      "source": [
        "![Imagem albúm de figurinhas](https://www.showmetech.com.br/wp-content/uploads//2022/08/Design-sem-nome-73.png)"
      ]
    },
    {
      "cell_type": "markdown",
      "metadata": {
        "id": "8L_o_sWYFr9o"
      },
      "source": [
        "\n",
        "### **SUPOSIÇOES**\n",
        "1. Todas as figurinhas tem igual probabilidade de serem sorteadas;\n",
        "2. Um pacotinho é comprado por vez até que se complete o album.  \n"
      ]
    },
    {
      "cell_type": "markdown",
      "metadata": {
        "id": "P5cBz-uZDI8a"
      },
      "source": [
        "\n",
        "### **PERGUNTAS**\n",
        "1. Qual o valor medio investido para completar o album nessas condiçoes?\n",
        "2. Quantos pacotes sao necessarios comprar, em media, para completar o album?\n",
        "3. Quantas vezes saiu a figurinha mais repetida, em media?\n",
        "4. Em média, quantas figurinhas não se repetem ao completar o album?\n",
        "5. Qual é a distribuiçao empirica do valor investido para completar o album?\n",
        "6. Qual a probabilidade de se gastar menos que R\\$3000,00 para completar o album?\n",
        "7. Qual a probabilidade de se gastar mais do que a media para completar o album?\n",
        "8. Qual e um intervalo de confiança de 95% para o gasto ao se completar o album?\n",
        "9. Qual o valor medio gasto caso se esteja completando o album com mais um amigo? \n",
        "10. Qual o valor medio gasto caso se esteja completando o album com mais dois amigos? \n",
        "11. Grafico da custo medio em funçao da quantidade de pessoas trocando figurinhas. "
      ]
    },
    {
      "cell_type": "code",
      "metadata": {
        "id": "h2l9BcKaV_eX"
      },
      "source": [
        "n_album = 670\n",
        "preco_pacote = 4\n",
        "cromos_por_pacote = 5\n",
        "preco_album = 12 \n",
        "simulacoes = 1000"
      ],
      "execution_count": 1,
      "outputs": []
    },
    {
      "cell_type": "code",
      "metadata": {
        "id": "xB0munEeV_n_"
      },
      "source": [
        "import numpy as np\n",
        "from random import randint\n",
        "\n",
        "# representação do álbum\n",
        "album = np.zeros(n_album) \n",
        "\n",
        "# representação do pacote de figurinhas\n",
        "pacotinho = np.random.choice(range(n_album), cromos_por_pacote)\n",
        "pacotinho\n",
        "\n",
        "# 'colando' as figurinhas obtidas no álbum\n",
        "for i in pacotinho:\n",
        "    album[i] += 1"
      ],
      "execution_count": 2,
      "outputs": []
    },
    {
      "cell_type": "code",
      "metadata": {
        "colab": {
          "base_uri": "https://localhost:8080/"
        },
        "id": "wZA98qWkY6eS",
        "outputId": "8b9b06df-5eca-40af-91d4-7bed62a348ee"
      },
      "source": [
        "# comprando figurinhas até completar o álbum\n",
        "def SimulaAlbum():\n",
        "    album = np.zeros(n_album) \n",
        "    pacotes = 0\n",
        "    while not np.all(album > 0):\n",
        "        pacotinho = np.random.choice(range(n_album), 5)\n",
        "        pacotes += 1\n",
        "\n",
        "        for i in pacotinho:\n",
        "            album[i] += 1\n",
        " \n",
        "\n",
        "    valor_gasto = preco_album + preco_pacote * pacotes \n",
        "\n",
        "    mais_repetida = max(album)\n",
        "\n",
        "    nao_repetidas = sum(album == 1)\n",
        "\n",
        "    # print(album)\n",
        "    return valor_gasto, mais_repetida, nao_repetidas\n",
        "\n",
        "SimulaAlbum()"
      ],
      "execution_count": 3,
      "outputs": [
        {
          "output_type": "execute_result",
          "data": {
            "text/plain": [
              "(4396, 18.0, 1)"
            ]
          },
          "metadata": {},
          "execution_count": 3
        }
      ]
    },
    {
      "cell_type": "code",
      "source": [
        "valores = []\n",
        "maisrep = []\n",
        "nao_rep = []\n",
        "\n",
        "for i in range(simulacoes):\n",
        "\n",
        "    s1, s2, s3 = SimulaAlbum()\n",
        "\n",
        "    valores.append(s1)\n",
        "    maisrep.append(s2)\n",
        "    nao_rep.append(s3)\n",
        "\n",
        "    if (i+1) % 100 == 0:\n",
        "        print('Simulação:', i+1, '/', simulacoes)"
      ],
      "metadata": {
        "colab": {
          "base_uri": "https://localhost:8080/"
        },
        "id": "q6yrHdcGUsUH",
        "outputId": "7879af66-ec07-4797-96c0-5f5122fe0f30"
      },
      "execution_count": 4,
      "outputs": [
        {
          "output_type": "stream",
          "name": "stdout",
          "text": [
            "Simulação: 100 / 1000\n",
            "Simulação: 200 / 1000\n",
            "Simulação: 300 / 1000\n",
            "Simulação: 400 / 1000\n",
            "Simulação: 500 / 1000\n",
            "Simulação: 600 / 1000\n",
            "Simulação: 700 / 1000\n",
            "Simulação: 800 / 1000\n",
            "Simulação: 900 / 1000\n",
            "Simulação: 1000 / 1000\n"
          ]
        }
      ]
    },
    {
      "cell_type": "code",
      "metadata": {
        "id": "aWgOBRkHqoKk",
        "colab": {
          "base_uri": "https://localhost:8080/"
        },
        "outputId": "5b4fd965-3d85-4405-af9e-27e906412d49"
      },
      "source": [
        "#questões 1 e 2\n",
        "print('O valor médio gasto foi:', round(np.mean(valores), 2))\n",
        "print('O numero de pacotes médio foi:', round((np.mean(valores) - preco_album)/preco_pacote, 2))"
      ],
      "execution_count": 5,
      "outputs": [
        {
          "output_type": "stream",
          "name": "stdout",
          "text": [
            "O valor médio gasto foi: 3786.75\n",
            "O numero de pacotes médio foi: 943.69\n"
          ]
        }
      ]
    },
    {
      "cell_type": "code",
      "source": [
        "#Questão 3\n",
        "np.mean(maisrep)"
      ],
      "metadata": {
        "colab": {
          "base_uri": "https://localhost:8080/"
        },
        "id": "MeurTanYWBLp",
        "outputId": "669d0052-d121-4d86-ac9c-3200c3269ee7"
      },
      "execution_count": 6,
      "outputs": [
        {
          "output_type": "execute_result",
          "data": {
            "text/plain": [
              "16.572"
            ]
          },
          "metadata": {},
          "execution_count": 6
        }
      ]
    },
    {
      "cell_type": "code",
      "source": [
        "#Questão 4\n",
        "np.mean(nao_rep)"
      ],
      "metadata": {
        "colab": {
          "base_uri": "https://localhost:8080/"
        },
        "id": "t4Hh7XopWT6g",
        "outputId": "6d16d1d0-2bf5-4ac3-a6f8-b7998239ed1a"
      },
      "execution_count": 7,
      "outputs": [
        {
          "output_type": "execute_result",
          "data": {
            "text/plain": [
              "7.307"
            ]
          },
          "metadata": {},
          "execution_count": 7
        }
      ]
    },
    {
      "cell_type": "code",
      "metadata": {
        "colab": {
          "base_uri": "https://localhost:8080/",
          "height": 283
        },
        "id": "5Okpk1hpdsL1",
        "outputId": "67fef7ec-3236-49b0-be90-1e53d4b6aa46"
      },
      "source": [
        "#questão 5\n",
        "import matplotlib.pyplot as plt\n",
        "plt.hist(valores, bins = 20, density = True, color = 'royalblue', edgecolor = 'black')\n",
        "plt.title('Distribuição Empírica do Valor Gasto para Completar o Álbum')\n",
        "plt.show()"
      ],
      "execution_count": 9,
      "outputs": [
        {
          "output_type": "display_data",
          "data": {
            "text/plain": [
              "<Figure size 432x288 with 1 Axes>"
            ],
            "image/png": "[encoded data removed]"
          },
          "metadata": {
            "needs_background": "light"
          }
        }
      ]
    },
    {
      "cell_type": "code",
      "metadata": {
        "colab": {
          "base_uri": "https://localhost:8080/"
        },
        "id": "EXppupwcGvGz",
        "outputId": "62a74fb6-6cbc-4ab7-941a-a7997925a871"
      },
      "source": [
        "# questoes 6 e 7\n",
        " \n",
        "prob1 = sum(np.array(valores) < 3000)/simulacoes\n",
        "prob2 = sum(np.array(valores) > np.array(valores).mean())/simulacoes\n",
        " \n",
        "print('A probabilidade de se gastar menos de 3000 é {:.2f}%'.format(prob1*100))\n",
        "print('A probabilidade de se gastar mais do que a média é {:.2f}%'.format(prob2*100))"
      ],
      "execution_count": 10,
      "outputs": [
        {
          "output_type": "stream",
          "name": "stdout",
          "text": [
            "A probabilidade de se gastar menos de 3000 é 7.10%\n",
            "A probabilidade de se gastar mais do que a média é 44.90%\n"
          ]
        }
      ]
    },
    {
      "cell_type": "code",
      "metadata": {
        "colab": {
          "base_uri": "https://localhost:8080/"
        },
        "id": "JIOgRcqAHKqR",
        "outputId": "ba57213f-a95b-467e-a402-f3c4acaafc84"
      },
      "source": [
        "# questao 8\n",
        "\n",
        "qts = np.quantile(valores, [0.025, 0.975])\n",
        "print('O intervalo de confiança de 95% para o gasto total é ({:.2f}, {:.2f})'.format(qts[0], qts[1]))"
      ],
      "execution_count": 11,
      "outputs": [
        {
          "output_type": "stream",
          "name": "stdout",
          "text": [
            "O intervalo de confiança de 95% para o gasto total é (2779.90, 5361.30)\n"
          ]
        }
      ]
    },
    {
      "cell_type": "markdown",
      "metadata": {
        "id": "GLhYEJ6Ctddf"
      },
      "source": [
        "### **Trocar figurinhas pode ser mais barato?**"
      ]
    },
    {
      "cell_type": "code",
      "metadata": {
        "colab": {
          "base_uri": "https://localhost:8080/"
        },
        "id": "gP4ji2LJtztb",
        "outputId": "0395b2cf-47c4-4bac-c1af-e37d6cfaa62f"
      },
      "source": [
        "# comprando figurinhas até completar o álbum\n",
        "def SimulaAlbum(qtde_albuns = 1):\n",
        "    album = np.zeros(n_album) \n",
        "    pacotes = 0\n",
        "    while not np.all(album >= qtde_albuns):\n",
        "        pacotinho = np.random.choice(range(n_album), 5)\n",
        "        pacotes += 1\n",
        "\n",
        "        for i in pacotinho:\n",
        "            album[i] += 1\n",
        " \n",
        "\n",
        "    valor_gasto = qtde_albuns*preco_album + preco_pacote * pacotes \n",
        "    valor_gasto_por_album = valor_gasto/qtde_albuns\n",
        "\n",
        "    return valor_gasto, pacotes, valor_gasto_por_album\n",
        "\n",
        "SimulaAlbum(2)"
      ],
      "execution_count": 12,
      "outputs": [
        {
          "output_type": "execute_result",
          "data": {
            "text/plain": [
              "(6688, 1666, 3344.0)"
            ]
          },
          "metadata": {},
          "execution_count": 12
        }
      ]
    },
    {
      "cell_type": "code",
      "metadata": {
        "colab": {
          "base_uri": "https://localhost:8080/"
        },
        "id": "ApA_PH4MH8ri",
        "outputId": "5aa0840c-b9ea-49ed-f2ed-f9545731b999"
      },
      "source": [
        "def Simulacao(qtde_albuns, simulacoes = 1000, silencio = False):\n",
        "    valores = []\n",
        "    for i in range(simulacoes):\n",
        "        valores.append(SimulaAlbum(qtde_albuns)[2])\n",
        "        if not silencio:\n",
        "            if (i+1) % 10 == 0:\n",
        "                print('Simulação: ', i+1, '/', simulacoes)\n",
        "    return valores\n",
        "\n",
        "sim = Simulacao(qtde_albuns = 2, simulacoes = 100)"
      ],
      "execution_count": 13,
      "outputs": [
        {
          "output_type": "stream",
          "name": "stdout",
          "text": [
            "Simulação:  100 / 100\n"
          ]
        }
      ]
    },
    {
      "cell_type": "code",
      "metadata": {
        "colab": {
          "base_uri": "https://localhost:8080/"
        },
        "id": "bIumjhsGHmfk",
        "outputId": "afd2206f-8c42-44aa-9f18-918fef5d6960"
      },
      "source": [
        "# questões 9 e 10\n",
        "\n",
        "sim2 = Simulacao(2, 100, silencio = True) \n",
        "c2 = np.array(sim2).mean() \n",
        "\n",
        "sim3 = Simulacao(3, 100, silencio = True) \n",
        "c3 = np.array(sim3).mean()  \n",
        "\n",
        "print('Custo médio entre 2 amigos:', round(c2, 2) )\n",
        "print('Custo médio entre 3 amigos:', round(c3, 2) )"
      ],
      "execution_count": 14,
      "outputs": [
        {
          "output_type": "stream",
          "name": "stdout",
          "text": [
            "Custo médio entre 2 amigos: 2534.38\n",
            "Custo médio entre 3 amigos: 2041.07\n"
          ]
        }
      ]
    },
    {
      "cell_type": "code",
      "metadata": {
        "colab": {
          "base_uri": "https://localhost:8080/"
        },
        "id": "Hg-vAjb4hjd_",
        "outputId": "e18e19a1-9809-4b3a-c7c8-125d4577738b"
      },
      "source": [
        "import time\n",
        "def SimulacaoAmigos(amigos = 40, simulacoes = 10):\n",
        "    medias = []\n",
        "    amigos = list(range(1, amigos + 1, 1))\n",
        "    for i in amigos: \n",
        "        t = time.time()\n",
        "        aux = Simulacao(i, simulacoes, silencio = True)\n",
        "        tempo = round(time.time() - t, 2)\n",
        "        print('Tempo total de {}s para a simulação com {} amigo(s)'.format(tempo, i))\n",
        "        medias.append(np.array(aux).mean())\n",
        "    return amigos, medias\n",
        "\n",
        "sim_amigos = SimulacaoAmigos(amigos = 20, simulacoes = 100)"
      ],
      "execution_count": 17,
      "outputs": [
        {
          "output_type": "stream",
          "name": "stdout",
          "text": [
            "Tempo total de 10.33s para a simulação com 1 amigo(s)\n",
            "Tempo total de 12.23s para a simulação com 2 amigo(s)\n",
            "Tempo total de 14.19s para a simulação com 3 amigo(s)\n",
            "Tempo total de 16.27s para a simulação com 4 amigo(s)\n",
            "Tempo total de 19.28s para a simulação com 5 amigo(s)\n",
            "Tempo total de 20.74s para a simulação com 6 amigo(s)\n",
            "Tempo total de 22.49s para a simulação com 7 amigo(s)\n",
            "Tempo total de 24.67s para a simulação com 8 amigo(s)\n",
            "Tempo total de 25.99s para a simulação com 9 amigo(s)\n",
            "Tempo total de 28.99s para a simulação com 10 amigo(s)\n",
            "Tempo total de 31.38s para a simulação com 11 amigo(s)\n",
            "Tempo total de 32.31s para a simulação com 12 amigo(s)\n",
            "Tempo total de 34.55s para a simulação com 13 amigo(s)\n",
            "Tempo total de 35.49s para a simulação com 14 amigo(s)\n",
            "Tempo total de 37.72s para a simulação com 15 amigo(s)\n",
            "Tempo total de 39.51s para a simulação com 16 amigo(s)\n",
            "Tempo total de 42.65s para a simulação com 17 amigo(s)\n",
            "Tempo total de 42.93s para a simulação com 18 amigo(s)\n",
            "Tempo total de 44.91s para a simulação com 19 amigo(s)\n",
            "Tempo total de 45.21s para a simulação com 20 amigo(s)\n"
          ]
        }
      ]
    },
    {
      "cell_type": "code",
      "source": [],
      "metadata": {
        "id": "KnVLG0RRqFiE"
      },
      "execution_count": null,
      "outputs": []
    },
    {
      "cell_type": "code",
      "metadata": {
        "colab": {
          "base_uri": "https://localhost:8080/",
          "height": 420
        },
        "id": "8M-zC-gjl79-",
        "outputId": "af0f9b7a-b261-4027-9fb4-453daf8411e9"
      },
      "source": [
        "import math\n",
        "def GraficoCustoAmigos(simulacao):\n",
        "\n",
        "    minimo_possivel = math.ceil(n_album/cromos_por_pacote)*preco_pacote \n",
        "\n",
        "    plt.figure(figsize=(18, 6))\n",
        "    plt.bar(simulacao[0], simulacao[1], width = 0.5, color = 'royalblue')\n",
        "    plt.xticks(simulacao[0])\n",
        "    plt.axhline(y = minimo_possivel, linestyle = 'dashed', color = 'blue')\n",
        "    plt.title('Custo médio aproximado para\\n completar o álbum em função do tamanho\\n do grupo de pessoas trocando figurinhas')\n",
        "    plt.show()\n",
        "\n",
        "GraficoCustoAmigos(sim_amigos)"
      ],
      "execution_count": 18,
      "outputs": [
        {
          "output_type": "display_data",
          "data": {
            "text/plain": [
              "<Figure size 1296x432 with 1 Axes>"
            ],
            "image/png": "[encoded data removed]"
          },
          "metadata": {
            "needs_background": "light"
          }
        }
      ]
    },
    {
      "cell_type": "code",
      "source": [
        "sim4 = Simulacao(20, 100, silencio = True) \n",
        "c20 = np.array(sim4).mean()  \n",
        "\n",
        "print('Custo médio entre 20 amigos:', round(c20, 2) )"
      ],
      "metadata": {
        "colab": {
          "base_uri": "https://localhost:8080/"
        },
        "id": "Jb0vAdazqKO3",
        "outputId": "4aa83f9e-973f-44a6-8b50-56897e287328"
      },
      "execution_count": 20,
      "outputs": [
        {
          "output_type": "stream",
          "name": "stdout",
          "text": [
            "Custo médio entre 20 amigos: 1000.16\n"
          ]
        }
      ]
    },
    {
      "cell_type": "markdown",
      "metadata": {
        "id": "K8sVmb44l9gy"
      },
      "source": [
        "---"
      ]
    },
    {
      "cell_type": "markdown",
      "source": [
        "O **custo medio** para preencher o album de figurinhas da copa do mundo de 2022 é de **3786,00**. Sendo que uma pessoa tem apenas **7%** de chances de completar esse album sozinha gastando menos de 3000,00.\n",
        "Caso preencha o album com um amigo ( trocando as figurinhas repetidas) esse valor cai para **2534,00** e se aproxima de **1000,00** caso a troca seja feita com 20 pessoas.\n",
        " O valor do algoritmo esta bem proximo do valor teorico divulgado pela Exame: https://exame.com/conta-em-dia/economizar/completar-album-copa-mundo-2022-gastando-pouco/\n",
        " que divulgou o valor do custo médio e com um amigo em 3797,00 e 2.524 respectivamente."
      ],
      "metadata": {
        "id": "btTc7JOFqB1g"
      }
    },
    {
      "cell_type": "markdown",
      "source": [
        "Em um cenário perfeito em que, ao comprar pacotinhos de figurinhas, não apareça figuirinhas repetidas o menor valor é de 548 reais. ( valor mínimo possível).\n",
        " Podemos perceber que preencher albúms trocando figurinhas com outros colecionadores, o custo médio diminui. E à medida que o número de pessoas trocando figurinhas aumenta, esse número tende a se aproximar do valor mínimo de 548,00."
      ],
      "metadata": {
        "id": "-qNhii3grNtS"
      }
    },
    {
      "cell_type": "markdown",
      "metadata": {
        "id": "yCY_R2exFSDX"
      },
      "source": [
        "---"
      ]
    }
  ]
}